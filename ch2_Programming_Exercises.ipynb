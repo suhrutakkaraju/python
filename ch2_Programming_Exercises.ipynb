{
  "nbformat": 4,
  "nbformat_minor": 0,
  "metadata": {
    "colab": {
      "provenance": [],
      "include_colab_link": true
    },
    "kernelspec": {
      "name": "python3",
      "display_name": "Python 3"
    },
    "language_info": {
      "name": "python"
    }
  },
  "cells": [
    {
      "cell_type": "markdown",
      "metadata": {
        "id": "view-in-github",
        "colab_type": "text"
      },
      "source": [
        "<a href=\"https://colab.research.google.com/github/suhrutakkaraju/python/blob/main/ch2_Programming_Exercises.ipynb\" target=\"_parent\"><img src=\"https://colab.research.google.com/assets/colab-badge.svg\" alt=\"Open In Colab\"/></a>"
      ]
    },
    {
      "cell_type": "markdown",
      "source": [
        "# Assignment 2.13 Planting Grapevines\n",
        "# Date 9/18/2022\n",
        "[pythontutor](https://pythontutor.com/visualize.html#code=%0A%0A%23%20V%3DR-2ES%0A%23%20The%20terms%20in%20the%20formula%20are%3A%0A%23%20V%20is%20the%20number%20of%20grapevines%20that%20will%20fit%20in%20the%20row.%0A%23%20161%0A%23%20R%20is%20the%20length%20of%20the%20row,%20in%20feet.%0A%23%20E%20is%20the%20amount%20of%20space,%20in%20feet,%20used%20by%20an%20end-post%20assembly.%0A%23%20S%20is%20the%20space%20between%20vines,%20in%20feet.%0A%0AR%20%3D%20input%28%22Enter%20the%20length%20of%20the%20row%20in%20feet%3A%22%29%0AR%20%3D%20float%28R%29%0A%0AE%20%3D%20input%28%22Enter%20amount%20of%20space,%20in%20feet,%20used%20by%20an%20end-post%20assembly%3A%22%29%0AE%20%3D%20float%20%28E%29%0A%0AS%20%3D%20input%28%22the%20space%20between%20vines,%20in%20feet%3A%22%29%0AS%20%3D%20float%20%28S%29%0A%0A%23S%20%3D%20float%28input%28%22the%20space%20between%20vines,%20in%20feet%3A%22%29%29%0A%0AV%20%3D%20R%20-%20%282%20*%20E%20*%20S%29%0AV%20%3D%20int%28V%29%0A%0Aprint%28%22The%20number%20of%20grapevines%20that%20will%20fit%20in%20the%20row%3A%22,%20V%29&cumulative=false&heapPrimitives=nevernest&mode=edit&origin=opt-frontend.js&py=3&rawInputLstJSON=%5B%5D&textReferences=false)"
      ],
      "metadata": {
        "id": "s2fdofdNMbp0"
      }
    },
    {
      "cell_type": "code",
      "execution_count": null,
      "metadata": {
        "colab": {
          "base_uri": "https://localhost:8080/"
        },
        "id": "M56FmT8oMWN5",
        "outputId": "de289033-4b92-4b03-d233-ed6fccba6024"
      },
      "outputs": [
        {
          "output_type": "stream",
          "name": "stdout",
          "text": [
            "Enter the length of the row in feet:100\n",
            "Enter amount of space, in feet, used by an end-post assembly:0.75\n",
            "the space between vines, in feet:3\n",
            "The number of grapevines that will fit in the row: 98\n"
          ]
        }
      ],
      "source": [
        "\n",
        "\n",
        "# V=R-2ES\n",
        "# The terms in the formula are:\n",
        "# V is the number of grapevines that will fit in the row.\n",
        "# 161\n",
        "# R is the length of the row, in feet.\n",
        "# E is the amount of space, in feet, used by an end-post assembly.\n",
        "# S is the space between vines, in feet.\n",
        "\n",
        "R = input(\"Enter the length of the row in feet:\")\n",
        "R = float(R)\n",
        "\n",
        "E = input(\"Enter amount of space, in feet, used by an end-post assembly:\")\n",
        "E = float (E)\n",
        "\n",
        "S = input(\"the space between vines, in feet:\")\n",
        "S = float (S)\n",
        "\n",
        "#S = float(input(\"the space between vines, in feet:\"))\n",
        "\n",
        "V = R - (2 * E * S)\n",
        "V = int(V)\n",
        "\n",
        "print(\"The number of grapevines that will fit in the row:\", V)"
      ]
    },
    {
      "cell_type": "markdown",
      "source": [
        "### Assignment 2.14 Compound Interest"
      ],
      "metadata": {
        "id": "wYHwHAY1N2py"
      }
    },
    {
      "cell_type": "code",
      "source": [
        "#A=P(1+rn)nt\n",
        "\n",
        "# A=P(1+rn)nt\n",
        "# The terms in the formula are:\n",
        "# A is the amount of money in the account after the specified number of years.\n",
        "# P is the principal amount that was originally deposited into the account.\n",
        "# r is the annual interest rate.\n",
        "# n is the number of times per year that the interest is compounded.\n",
        "# t is the specified number of years.\n",
        "\n",
        "# Get the inputs\n",
        "P = input('Enter the principal amount: ')\n",
        "r = input('Enter the annual interest rate: ')\n",
        "n = input('Enter the number of times per that the interest is compounded: ')\n",
        "t = input('Enter the number of years')\n",
        "\n",
        "# convert to proper data types\n",
        "P = float(P)\n",
        "r = float(P)\n",
        "n = int(n)\n",
        "t = int(t)\n",
        "\n",
        "# Calculate the answer\n",
        "A = P * (((1 + ((r/100.0)/n)) ** (n*t)))\n",
        "\n",
        "#print the final answer\n",
        "print('Final amount: ', A)\n"
      ],
      "metadata": {
        "id": "L9_HTxSZN_dQ"
      },
      "execution_count": null,
      "outputs": []
    },
    {
      "cell_type": "markdown",
      "source": [
        "1. Personal Information\n",
        "Write a program that displays the following information:\n",
        "Your name\n",
        "Your address, with city, state, and ZIP\n",
        "Your telephone number\n",
        "Your college major\n",
        "\n",
        "2. Sales Prediction\n",
        "A company has determined that its annual profit is typically 23 percent of total sales. Write a\n",
        "program that asks the user to enter the projected amount of total sales, then displays the profit\n",
        "that will be made from that amount.\n",
        "The Sales Prediction Problem\n",
        "Hint: Use the value 0.23 to represent 23 percent.\n",
        "\n",
        "3. Land Calculation\n",
        "One acre of land is equivalent to 43,560 square feet. Write a program that asks the user to enter\n",
        "the total square feet in a tract of land and calculates the number of acres in the tract.\n",
        "Hint: Divide the amount entered by 43,560 to get the number of acres.\n",
        "\n",
        "4. Total Purchase\n",
        "A customer in a store is purchasing five items. Write a program that asks for the price of each\n",
        "item, then displays the subtotal of the sale, the amount of sales tax, and the total. Assume the\n",
        "sales tax is 7 percent.\n",
        "\n",
        "5. Distance Traveled\n",
        "Assuming there are no accidents or delays, the distance that a car travels down the interstate can\n",
        "be calculated with the following formula:\n",
        "Distance=Speed×Time\n",
        "A car is traveling at 70 miles per hour. Write a program that displays the following:\n",
        "The distance the car will travel in 6 hours\n",
        "The distance the car will travel in 10 hours\n",
        "The distance the car will travel in 15 hours\n",
        "\n",
        "6. Sales Tax\n",
        "Write a program that will ask the user to enter the amount of a purchase. The program should\n",
        "then compute the state and county sales tax. Assume the state sales tax is 5 percent and the\n",
        "county sales tax is 2.5 percent. The program should display the amount of the purchase, the\n",
        "state sales tax, the county sales tax, the total sales tax, and the total of the sale (which is the sum\n",
        "of the amount of purchase plus the total sales tax).\n",
        "Hint: Use the value 0.025 to represent 2.5 percent, and 0.05 to represent 5 percent.\n",
        "\n",
        "7. Miles-per-Gallon\n",
        "A car's miles-per-gallon (MPG) can be calculated with the following formula:\n",
        "MPG=Miles driven÷Gallons of gas used\n",
        "Write a program that asks the user for the number of miles driven and the gallons of gas used. It\n",
        "should calculate the car's MPG and display the result.\n",
        "\n",
        "8. Tip, Tax, and Total\n",
        "Write a program that calculates the total amount of a meal purchased at a restaurant. The\n",
        "program should ask the user to enter the charge for the food, then calculate the amounts of a 18\n",
        "percent tip and 7 percent sales tax. Display each of these amounts and the total.\n",
        "\n",
        "9. Celsius to Fahrenheit Temperature Converter\n",
        "Write a program that converts Celsius temperatures to Fahrenheit temperatures. The formula is\n",
        "as follows:\n",
        "F=95C+32\n",
        "The program should ask the user to enter a temperature in Celsius, then display the temperature\n",
        "converted to Fahrenheit.\n",
        "\n",
        "10. Ingredient Adjuster\n",
        "A cookie recipe calls for the following ingredients:\n",
        "1.5 cups of sugar\n",
        "1 cup of butter\n",
        "2.75 cups of flour\n",
        "The recipe produces 48 cookies with this amount of the ingredients. Write a program that asks\n",
        "the user how many cookies he or she wants to make, then displays the number of cups of each\n",
        "ingredient needed for the specified number of cookies.\n",
        "\n",
        "11. Male and Female Percentages\n",
        "Write a program that asks the user for the number of males and the number of females\n",
        "registered in a class. The program should display the percentage of males and females in the\n",
        "160\n",
        "class.\n",
        "Hint: Suppose there are 8 males and 12 females in a class. There are 20 students in the class.\n",
        "The percentage of males can be calculated as 8 ÷ 20 = 0.4, or 40%. The percentage of females\n",
        "can be calculated as 12 ÷ 20 = 0.6, or 60%.\n",
        "\n",
        "12. Stock Transaction Program\n",
        "Last month, Joe purchased some stock in Acme Software, Inc. Here are the details of the\n",
        "purchase:\n",
        "The number of shares that Joe purchased was 2,000.\n",
        "When Joe purchased the stock, he paid 40.00 per share.\n",
        "Joe paid his stockbroker a commission that amounted to 3 percent of the amount he paid for the stock.\n",
        "Two weeks later, Joe sold the stock. Here are the details of the sale:\n",
        "The number of shares that Joe sold was 2,000.\n",
        "He sold the stock for $42.75 per share.\n",
        "He paid his stockbroker another commission that amounted to 3 percent of the amount he\n",
        "received for the stock.\n",
        "\n",
        "Write a program that displays the following information:\n",
        "The amount of money Joe paid for the stock.\n",
        "The amount of commission Joe paid his broker when he bought the stock.\n",
        "The amount for which Joe sold the stock.\n",
        "The amount of commission Joe paid his broker when he sold the stock.\n",
        "Display the amount of money that Joe had left when he sold the stock and paid his broker\n",
        "(both times). If this amount is positive, then Joe made a profit. If the amount is negative,\n",
        "then Joe lost money.\n",
        "\n",
        "13. Planting Grapevines\n",
        "A vineyard owner is planting several new rows of grapevines, and needs to know how many\n",
        "grapevines to plant in each row. She has determined that after measuring the length of a future\n",
        "row, she can use the following formula to calculate the number of vines that will fit in the row,\n",
        "along with the trellis end-post assemblies that will need to be constructed at each end of the\n",
        "row:\n",
        "V=R-2ES\n",
        "The terms in the formula are:\n",
        "V is the number of grapevines that will fit in the row.\n",
        "161\n",
        "R is the length of the row, in feet.\n",
        "E is the amount of space, in feet, used by an end-post assembly.\n",
        "S is the space between vines, in feet.\n",
        "Write a program that makes the calculation for the vineyard owner. The program should ask the\n",
        "user to input the following:\n",
        "The length of the row, in feet\n",
        "The amount of space used by an end-post assembly, in feet\n",
        "The amount of space between the vines, in feet\n",
        "Once the input data has been entered, the program should calculate and display the number of\n",
        "grapevines that will fit in the row.\n",
        "\n",
        "14. Compound Interest\n",
        "When a bank account pays compound interest, it pays interest not only on the principal amount\n",
        "that was deposited into the account, but also on the interest that has accumulated over time.\n",
        "Suppose you want to deposit some money into a savings account, and let the account earn\n",
        "compound interest for a certain number of years. The formula for calculating the balance of the\n",
        "account after a specified number of years is:\n",
        "A=P(1+rn)nt\n",
        "The terms in the formula are:\n",
        "A is the amount of money in the account after the specified number of years.\n",
        "P is the principal amount that was originally deposited into the account.\n",
        "r is the annual interest rate.\n",
        "n is the number of times per year that the interest is compounded.\n",
        "t is the specified number of years.\n",
        "Write a program that makes the calculation for you. The program should ask the user to input\n",
        "the following:\n",
        "The amount of principal originally deposited into the account\n",
        "The annual interest rate paid by the account\n",
        "The number of times per year that the interest is compounded (For example, if interest is\n",
        "compounded monthly, enter 12. If interest is compounded quarterly, enter 4.)\n",
        "The number of years the account will be left to earn interest\n",
        "Once the input data has been entered, the program should calculate and display the amount of\n",
        "money that will be in the account after the specified number of years.\n",
        "162\n",
        " Note:\n",
        "The user should enter the interest rate as a percentage. For example, 2 percent would be entered\n",
        "as 2, not as .02. The program will then have to divide the input by 100 to move the decimal\n",
        "point to the correct position.\n"
      ],
      "metadata": {
        "id": "UVu3Lgcu-JHO"
      }
    },
    {
      "cell_type": "code",
      "source": [],
      "metadata": {
        "id": "WEC8iA7M-gIW"
      },
      "execution_count": null,
      "outputs": []
    }
  ]
}