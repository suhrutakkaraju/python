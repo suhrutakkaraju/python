{
  "nbformat": 4,
  "nbformat_minor": 0,
  "metadata": {
    "colab": {
      "provenance": [],
      "toc_visible": true,
      "include_colab_link": true
    },
    "kernelspec": {
      "name": "python3",
      "display_name": "Python 3"
    },
    "language_info": {
      "name": "python"
    }
  },
  "cells": [
    {
      "cell_type": "markdown",
      "metadata": {
        "id": "view-in-github",
        "colab_type": "text"
      },
      "source": [
        "<a href=\"https://colab.research.google.com/github/suhrutakkaraju/python/blob/main/ch2_Programming_Exercises.ipynb\" target=\"_parent\"><img src=\"https://colab.research.google.com/assets/colab-badge.svg\" alt=\"Open In Colab\"/></a>"
      ]
    },
    {
      "cell_type": "markdown",
      "source": [
        "# Date 9/18/2022\n",
        "[pythontutor](https://pythontutor.com/visualize.html#code=%0A%0A%23%20V%3DR-2ES%0A%23%20The%20terms%20in%20the%20formula%20are%3A%0A%23%20V%20is%20the%20number%20of%20grapevines%20that%20will%20fit%20in%20the%20row.%0A%23%20161%0A%23%20R%20is%20the%20length%20of%20the%20row,%20in%20feet.%0A%23%20E%20is%20the%20amount%20of%20space,%20in%20feet,%20used%20by%20an%20end-post%20assembly.%0A%23%20S%20is%20the%20space%20between%20vines,%20in%20feet.%0A%0AR%20%3D%20input%28%22Enter%20the%20length%20of%20the%20row%20in%20feet%3A%22%29%0AR%20%3D%20float%28R%29%0A%0AE%20%3D%20input%28%22Enter%20amount%20of%20space,%20in%20feet,%20used%20by%20an%20end-post%20assembly%3A%22%29%0AE%20%3D%20float%20%28E%29%0A%0AS%20%3D%20input%28%22the%20space%20between%20vines,%20in%20feet%3A%22%29%0AS%20%3D%20float%20%28S%29%0A%0A%23S%20%3D%20float%28input%28%22the%20space%20between%20vines,%20in%20feet%3A%22%29%29%0A%0AV%20%3D%20R%20-%20%282%20*%20E%20*%20S%29%0AV%20%3D%20int%28V%29%0A%0Aprint%28%22The%20number%20of%20grapevines%20that%20will%20fit%20in%20the%20row%3A%22,%20V%29&cumulative=false&heapPrimitives=nevernest&mode=edit&origin=opt-frontend.js&py=3&rawInputLstJSON=%5B%5D&textReferences=false)"
      ],
      "metadata": {
        "id": "s2fdofdNMbp0"
      }
    },
    {
      "cell_type": "code",
      "source": [
        "PENNY = .01\n",
        "NICKEL = .05\n",
        "DIME = .10\n",
        "QUARTER = .25\n",
        "pennies = float(input(\"Enter number of pennies: \"))\n",
        "nickels = float(input(\"Enter number of nickels: \"))\n",
        "dimes = float(input(\"Enter number of dimes: \"))\n",
        "quarters = float(input(\"Enter number of quarters: \"))\n",
        "pennies *= PENNY # pennies = pennies * PENNY\n",
        "nickels *= NICKEL\n",
        "dimes *= DIME\n",
        "quarters *= QUARTER\n",
        "total = pennies + nickels + dimes + quarters\n",
        "message = \"\"\n",
        "if total == 1.00:\n",
        "    message = \"You Won! The amount entered equals 1 dollar.\"\n",
        "\n",
        "\n",
        "else:\n",
        "    message = \"You Lost! \"\n",
        "\n",
        "    if total > 1.00:\n",
        "        message += \"The amount entered is greater than 1 dollar.\"\n",
        "    else:\n",
        "        message += \"The amount entered is less than 1 dollar.\"\n",
        "\n",
        "print(message)"
      ],
      "metadata": {
        "id": "WEC8iA7M-gIW",
        "colab": {
          "base_uri": "https://localhost:8080/"
        },
        "outputId": "cf7c0344-73b2-4aa0-a3f0-9d450ebc85ab"
      },
      "execution_count": 2,
      "outputs": [
        {
          "output_type": "stream",
          "name": "stdout",
          "text": [
            "Enter number of pennies: 1\n",
            "Enter number of nickels: 1\n",
            "Enter number of dimes: 1\n",
            "Enter number of quarters: 1\n",
            "You Lost! The amount entered is less than 1 dollar.\n"
          ]
        }
      ]
    },
    {
      "cell_type": "code",
      "source": [
        "number_of_books = int(input(\"Enter the number of books: \"))\n",
        "message = \"\"\n",
        "\n",
        "if number_of_books < 0:\n",
        "    message = \"Error. Enter a positive number. \\n\" + \\\n",
        "              \"Re-run program and try again.\"\n",
        "else:\n",
        "    message = \"You are awared \"\n",
        "\n",
        "    if number_of_books >= 0 and number_of_books <= 1:\n",
        "        message += \"0 \"\n",
        "    elif number_of_books >= 2 and number_of_books <= 3:\n",
        "        message += \"5 \"\n",
        "    elif number_of_books >= 4 and number_of_books <= 5:\n",
        "        message += \"15 \"\n",
        "    elif number_of_books >= 6 and number_of_books <= 7:\n",
        "        message += \"30 \"\n",
        "    elif number_of_books >= 8:\n",
        "        message += \"60 \"\n",
        "\n",
        "    message += \"points.\"\n",
        "\n",
        "print(message)"
      ],
      "metadata": {
        "colab": {
          "base_uri": "https://localhost:8080/"
        },
        "id": "CwYcgpqoVVY0",
        "outputId": "6c993761-4920-4f4e-a0f3-e09898825d65"
      },
      "execution_count": 3,
      "outputs": [
        {
          "output_type": "stream",
          "name": "stdout",
          "text": [
            "Enter the number of books: 1\n",
            "You are awared 0 points.\n"
          ]
        }
      ]
    }
  ]
}