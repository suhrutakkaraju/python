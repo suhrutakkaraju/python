{
  "nbformat": 4,
  "nbformat_minor": 0,
  "metadata": {
    "colab": {
      "provenance": [],
      "toc_visible": true,
      "include_colab_link": true
    },
    "kernelspec": {
      "name": "python3",
      "display_name": "Python 3"
    },
    "language_info": {
      "name": "python"
    }
  },
  "cells": [
    {
      "cell_type": "markdown",
      "metadata": {
        "id": "view-in-github",
        "colab_type": "text"
      },
      "source": [
        "<a href=\"https://colab.research.google.com/github/suhrutakkaraju/python/blob/main/copy_of_ch2_programming_exercises_skeleton.ipynb\" target=\"_parent\"><img src=\"https://colab.research.google.com/assets/colab-badge.svg\" alt=\"Open In Colab\"/></a>"
      ]
    },
    {
      "cell_type": "markdown",
      "source": [
        "# Chapter 2: Input, Processing, and Output\n",
        "## Siva.Jasthi@gmail.com\n",
        "### Python101\n",
        "\n",
        "```\n",
        "Requirements Checklist:\n",
        "\n",
        "1. What are the inputs?\n",
        "--  Are those given as constants?\n",
        "--  Are we takig those as inputs from the user?\n",
        "2. What are the outputs?\n",
        "-- What do I need to print (display)?\n",
        "3. What processing is required?\n",
        "-- how do I convert inputs to outputs\n",
        "-- what actions / arithmetic operations I need to perform\n",
        "```\n",
        "\n",
        "```\n",
        "Python101 Coding checklist:\n",
        "\n",
        "1. Variables are declared lowercase (eg: total_sales)\n",
        "2. Constants are declared in uppercase (eg: SALES_TAX)\n",
        "3. A space is left on either side of = \n",
        "4. Ouputs are always shown with descriptive text (no magic numbers)\n",
        "5. Comments are written to explain complex logic\n",
        "```"
      ],
      "metadata": {
        "id": "fPLAsRJ9GcvF"
      }
    },
    {
      "cell_type": "code",
      "execution_count": null,
      "metadata": {
        "id": "cC57aNQBcIv1"
      },
      "outputs": [],
      "source": [
        "#@title 1.Personal Information\n",
        "\n",
        "'''\n",
        "Write a program that displays the following information:\n",
        "Your name\n",
        "Your address, with city, state, and ZIP Your telephone number\n",
        "The field you wish to study\n",
        "'''"
      ]
    },
    {
      "cell_type": "code",
      "source": [
        "#@title 2.Sales Prediction\n",
        "\n",
        "'''\n",
        "A company has determined that its annual profit is typically 23 percent of total sales.\n",
        "Write a program that asks the user to enter the projected amount of total sales. \n",
        "Then display the profit that will be made from that amount.\n",
        "Hint: Use the value 0.23 to represent 23%\n",
        "'''"
      ],
      "metadata": {
        "id": "1IT-oW__csIM"
      },
      "execution_count": null,
      "outputs": []
    },
    {
      "cell_type": "code",
      "source": [
        "#@title 3.Land Calculation\n",
        "\n",
        "'''\n",
        "One acre of land is equivalent to 43,560 square feet. \n",
        "Write a program that asks the user to enter the total square feet in a tract of land.\n",
        "Then calculate the number of acres in the tract.\n",
        "Hint: Divide the amount entered by 43,560 to get the number of acres.\n",
        "'''"
      ],
      "metadata": {
        "id": "qLxHWwDxc3z1"
      },
      "execution_count": null,
      "outputs": []
    },
    {
      "cell_type": "code",
      "source": [
        "#@title 4.Total Purchase\n",
        "\n",
        "'''\n",
        "A customer in a store is purchasing five items. \n",
        "Write a program that asks for the price of each item.\n",
        "Then display the subtotal of the sale, the amount of sales tax, and the total. \n",
        "Assume the sales tax is 7 percent.\n",
        "'''"
      ],
      "metadata": {
        "id": "z5L_BGEpdhkw"
      },
      "execution_count": null,
      "outputs": []
    },
    {
      "cell_type": "code",
      "source": [
        "#@title 5.Distance Traveled\n",
        "\n",
        "'''\n",
        "Assuming there are no accidents or delays, the distance that a car travels down the interstate can be calculated with the following formula:\n",
        "Distance = Speed × Time\n",
        "A car is traveling at 70 miles per hour. Write a program that displays the following:\n",
        "  - The distance the car will travel in 6 hours \n",
        "  - The distance the car will travel in 10 hours \n",
        "  - The distance the car will travel in 15 hours\n",
        "'''"
      ],
      "metadata": {
        "id": "NHbvwpWLduH5"
      },
      "execution_count": null,
      "outputs": []
    },
    {
      "cell_type": "code",
      "source": [
        "#@title 6.Sales Tax\n",
        "\n",
        "'''\n",
        "Write a program that will ask the user to enter the amount of a purchase. \n",
        "The program should then compute the state and county sales tax. \n",
        "Assume the state sales tax is 5 percent and the county sales tax is 2.5 percent. \n",
        "The program should display:\n",
        "  - The amount of the purchase\n",
        "  - The state sales tax\n",
        "  - The county sales tax\n",
        "  - The total sales tax\n",
        "  - The total of the sale (which is the sum of the amount of purchase plus the total sales tax).\n",
        "Hint: Use the value 0.025 to represent 2.5 percent, and 0.05 to represent 5 percent.\n",
        "'''"
      ],
      "metadata": {
        "id": "QugFaQSNd6yC"
      },
      "execution_count": null,
      "outputs": []
    },
    {
      "cell_type": "code",
      "source": [
        "#@title 7.Miles per gallon\n",
        "\n",
        "'''\n",
        "A car's miles-per-gallon (MPG) can be calculated with the following formula: MPG = Miles driven / Gallons of gas used\n",
        "Write a program that asks the user for the number of miles driven and the gallons of gas used. \n",
        "It should calculate the car's MPG and display the result.\n",
        "'''"
      ],
      "metadata": {
        "id": "jIfU-paIeMkM"
      },
      "execution_count": null,
      "outputs": []
    },
    {
      "cell_type": "code",
      "source": [
        "#@title 8.Tip, tax, total\n",
        "\n",
        "'''\n",
        "Write a program that calculates the total amount of a meal purchased at a restaurant. \n",
        "The program should ask the user to enter the charge for the food.\n",
        "Tthen calculate the amounts of a 18 percent tip and 7 percent sales tax. \n",
        "Display each of these amounts and the total.\n",
        "'''"
      ],
      "metadata": {
        "id": "TFbiKSMQefLu"
      },
      "execution_count": null,
      "outputs": []
    },
    {
      "cell_type": "code",
      "source": [
        "#@title 9.Celcius to Fahrenheit\n",
        "\n",
        "'''\n",
        "Write a program that converts Celsius temperatures to Fahrenheit temperatures. \n",
        "The formula is as follows: F = 9/5C + 32\n",
        "The program should ask the user to enter a temperature in Celsius, then display the temperature converted to Fahrenheit.\n",
        "'''"
      ],
      "metadata": {
        "id": "1ilI4G1LemHN"
      },
      "execution_count": null,
      "outputs": []
    },
    {
      "cell_type": "code",
      "source": [
        "#@title 10.Ingredient Adjuster\n",
        "\n",
        "'''\n",
        "A cookie recipe calls for the following ingredients:\n",
        "  - 1.5 cups of sugar \n",
        "  - 1 cup of butter \n",
        "  - 2.75 cups of flour\n",
        "The recipe produces 48 cookies with this amount of the ingredients. \n",
        "Write a program that asks the user how many cookies he or she wants to make.\n",
        "Then displays the number of cups of each ingredient needed for the specified number of cookies.\n",
        "'''"
      ],
      "metadata": {
        "id": "QajYTPpHeuOx"
      },
      "execution_count": null,
      "outputs": []
    },
    {
      "cell_type": "code",
      "source": [
        "#@title 11.Percent of students in a class\n",
        "\n",
        "'''\n",
        "Write a program that asks the user for the number of males and the number of females registered in a class. \n",
        "The program should display the percentage of males and females in the class.\n",
        "\n",
        "Hint: Suppose there are 8 males and 12 females in a class. The percentage of males can be calculated as 8 ÷ 20 = 0.4, or 40%. \n",
        "\n",
        "'''"
      ],
      "metadata": {
        "id": "4rMcpWHleuUN"
      },
      "execution_count": null,
      "outputs": []
    },
    {
      "cell_type": "code",
      "source": [
        "#@title 12.Stock transaction program\n",
        "\n",
        "'''\n",
        "Last month, Joe purchased some stock in Acme Software, Inc. Here are the details of the purchase:\n",
        "  - The number of shares that Joe purchased was 2,000. \n",
        "  - When Joe purchased the stock, he paid $40.00 per share.\n",
        "  - Joe paid his stockbroker a commission that amounted to 3 percent of the amount he paid for the stock.\n",
        "\n",
        "Two weeks later, Joe sold the stock. Here are the details of the sale:\n",
        "  - The number of shares that Joe sold was 2,000.\n",
        "  - He sold the stock for $42.75 per share.\n",
        "  - He paid his stockbroker another commission that amounted to 3 percent of the amount he received for the stock.\n",
        "\n",
        "Write a program that displays the following information:\n",
        "  - The amount of money Joe paid for the stock.\n",
        "  - The amount of commission Joe paid his broker when he bought the stock. The amount for which Joe sold the stock.\n",
        "  - The amount of commission Joe paid his broker when he sold the stock.\n",
        "  - Display the amount of money that Joe had left when he sold the stock and paid his broker (both times). \n",
        "  (If this amount is positive, then Joe made a profit. If the amount is negative, then Joe lost money.) '''\n",
        "\n",
        "Stock_Money = 40.00 + 42.75\n",
        "Share_Money = 2000 - 2000\n",
        "Stockbroker1 = 40.00 - 0.03\n",
        "Stockbroker2 = 42.75 - 0.03\n",
        "\n",
        "print(Stock_Money + Share_Money + Stockbroker1 + Stockbroker2)\n"
      ],
      "metadata": {
        "id": "Ka32S4UdfLTK",
        "outputId": "2dcfb2f2-03d5-4818-aeac-10da99c8537a",
        "colab": {
          "base_uri": "https://localhost:8080/"
        }
      },
      "execution_count": null,
      "outputs": [
        {
          "output_type": "stream",
          "name": "stdout",
          "text": [
            "165.44\n"
          ]
        }
      ]
    },
    {
      "cell_type": "code",
      "source": [
        "#@title 13.Planting grapevines\n",
        "\n",
        "'''\n",
        "A vineyard owner is planting several new rows of grapevines, and needs to know how many grapevines to plant in each row. \n",
        "She can use the following formula to calculate the number of vines that will fit in the row, along with the trellis end-post assemblies that will need to be constructed at each end of the row:\n",
        "V = R - 2ES\n",
        "\n",
        "The terms in the formula are:\n",
        "  - V is the number of grapevines that will fit in the row. 161\n",
        "  - R is the length of the row, in feet.\n",
        "  - E is the amount of space, in feet, used by an end-post assembly. S is the space between vines, in feet.\n",
        "\n",
        "Write a program that makes the calculation for the vineyard owner. The program should ask the user to input the following:\n",
        "  - The length of the row, in feet\n",
        "  - The amount of space used by an end-post assembly, in feet The amount of space between the vines, in feet\n",
        "  - Once the input data has been entered, the program should calculate and display the number of grapevines that will fit in the row.'''\n",
        "\n",
        "\n",
        "R = float(input('Enter the length of the row, in feet: '))\n",
        "E = float(input('Enter amount of space used by an end-post assembly: '))\n",
        "S = float(input('Enter amount of space between vines: '))\n",
        "\n",
        "V = (R - (2 * E)) / S\n",
        "\n",
        "\n",
        "print(\"Number of grapevines that will fit in a row = \", V)\n",
        "  "
      ],
      "metadata": {
        "id": "4B459H1Afizl"
      },
      "execution_count": null,
      "outputs": []
    },
    {
      "cell_type": "code",
      "source": [
        "#@title 14.Compound Interest\n",
        "\n",
        "'''\n",
        "Suppose you want to deposit some money into a savings account. \n",
        "Let the account earn compound interest for a certain number of years. \n",
        "The formula for calculating the balance of the account after a specified number of years is:\n",
        "A = P(1+rn)nt\n",
        "The terms in the formula are:\n",
        "  - A is the amount of money in the account after the specified number of years. P is the principal amount that was originally deposited into the account.\n",
        "  - r is the annual interest rate.\n",
        "  - n is the number of times per year that the interest is compounded.\n",
        "  - t is the specified number of years.\n",
        "\n",
        "Write a program that makes the calculation for you. The program should ask the user to input the following:\n",
        "  - The amount of principal originally deposited into the account\n",
        "  - The annual interest rate paid by the account\n",
        "  - The number of times per year that the interest is compounded (For example, if interest is compounded monthly, enter 12. If interest is compounded quarterly, enter 4.)\n",
        "  - The number of years the account will be left to earn interest\n",
        "\n",
        "Once the input data has been entered, the program should calculate and display the amount of money that will be in the account after the specified number of years.\n",
        "\n",
        "Note:\n",
        "The user should enter the interest rate as a percentage. \n",
        "For example, 2 percent would be entered as 2, not as .02. \n",
        "The program will then have to divide the input by 100 to move the decimal point to the correct position.\n",
        "'''\n",
        "\n",
        "P = float(input('Enter principal amount: $'))\n",
        "r = float(input('Enter annual interest rate %'))\n",
        "n = float(input('Enter number of times per year interest has compounded: '))\n",
        "t = float(input('Enter number of years account will be left to earn interest: '))\n",
        "\n",
        "r /= 100\n",
        "A = P * ((1 + (r / n))**(n * t))\n",
        "\n",
        "print('After ', t, ' years, $', format(A, ',.2f'), ' will be in the account. ', sep='')"
      ],
      "metadata": {
        "id": "fpM_rARDf2e8",
        "outputId": "7740fafb-e783-4e76-dd81-7d68cf3b24d9",
        "colab": {
          "base_uri": "https://localhost:8080/"
        }
      },
      "execution_count": null,
      "outputs": [
        {
          "output_type": "stream",
          "name": "stdout",
          "text": [
            "Enter principal amount: $60\n",
            "Enter annual interest rate %57\n",
            "Enter number of times per year interest has compounded: 56\n",
            "Enter number of years account will be left to earn interest: 67\n",
            "After 67.0 years, $1,905,533,363,536,723,712.00 will be in the account. \n"
          ]
        }
      ]
    },
    {
      "cell_type": "code",
      "source": [
        "#@title 15.(ignore) Turtle graphics drawings\n",
        "\n",
        "'''\n",
        "Use the turtle graphics library to write programs that reproduce each of the designs shown in Figure 2-34.\n",
        "'''"
      ],
      "metadata": {
        "id": "lLLupeKKgdG3"
      },
      "execution_count": null,
      "outputs": []
    }
  ]
}