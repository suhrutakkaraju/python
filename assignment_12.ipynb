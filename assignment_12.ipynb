{
  "nbformat": 4,
  "nbformat_minor": 0,
  "metadata": {
    "colab": {
      "provenance": [],
      "authorship_tag": "ABX9TyM640JWGZe8jNrtHsBV9n62",
      "include_colab_link": true
    },
    "kernelspec": {
      "name": "python3",
      "display_name": "Python 3"
    },
    "language_info": {
      "name": "python"
    }
  },
  "cells": [
    {
      "cell_type": "markdown",
      "metadata": {
        "id": "view-in-github",
        "colab_type": "text"
      },
      "source": [
        "<a href=\"https://colab.research.google.com/github/suhrutakkaraju/python/blob/main/assignment_12.ipynb\" target=\"_parent\"><img src=\"https://colab.research.google.com/assets/colab-badge.svg\" alt=\"Open In Colab\"/></a>"
      ]
    },
    {
      "cell_type": "code",
      "execution_count": null,
      "metadata": {
        "colab": {
          "base_uri": "https://localhost:8080/"
        },
        "id": "yvY8fsrYT5m1",
        "outputId": "b724092d-25b7-4c45-b17d-cce1800410bf"
      },
      "outputs": [
        {
          "output_type": "stream",
          "name": "stdout",
          "text": [
            "5554383663\n"
          ]
        }
      ],
      "source": [
        "Phonenumber = \"555GETFOOD\"\n",
        "#              0 1   2    3     4     5     6       7      8    9\n",
        "Phonelist = [\"\",\"\",\"ABC\",\"DEF\",\"GHI\",\"JKL\",\"MNO\",\"PQRS\",\"TUV\",\"WXYZ\"]\n",
        "returnvalue = \"\"\n",
        "for character in Phonenumber:\n",
        "\n",
        "  if character.isnumeric():\n",
        "    returnvalue+= str(character)\n",
        "  elif character in Phonelist[2]:\n",
        "    returnvalue=returnvalue+str(2)\n",
        "  elif character in Phonelist[3]:\n",
        "    returnvalue=returnvalue+str(3)\n",
        "  elif character in Phonelist [4]:\n",
        "    returnvalue=returnvalue+str(4)\n",
        "  elif character in Phonelist [5]:\n",
        "    returnvalue=returnvalue+str(5)\n",
        "  elif character in Phonelist [6]:\n",
        "    returnvalue=returnvalue+str(6)\n",
        "  elif character in Phonelist [7]:\n",
        "    returnvalue=returnvalue+str(7)\n",
        "  elif character in Phonelist [8]:\n",
        "    returnvalue=returnvalue+str(8)\n",
        "  elif character in Phonelist [9]:\n",
        "    returnvalue=returnvalue+str(9)\n",
        "\n",
        "print(returnvalue)  "
      ]
    }
  ]
}