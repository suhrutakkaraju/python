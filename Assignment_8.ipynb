{
  "nbformat": 4,
  "nbformat_minor": 0,
  "metadata": {
    "colab": {
      "provenance": [],
      "authorship_tag": "ABX9TyMMdzIWsaCfOgKo38XS2VuP",
      "include_colab_link": true
    },
    "kernelspec": {
      "name": "python3",
      "display_name": "Python 3"
    },
    "language_info": {
      "name": "python"
    }
  },
  "cells": [
    {
      "cell_type": "markdown",
      "metadata": {
        "id": "view-in-github",
        "colab_type": "text"
      },
      "source": [
        "<a href=\"https://colab.research.google.com/github/suhrutakkaraju/python/blob/main/Assignment_8.ipynb\" target=\"_parent\"><img src=\"https://colab.research.google.com/assets/colab-badge.svg\" alt=\"Open In Colab\"/></a>"
      ]
    },
    {
      "cell_type": "code",
      "execution_count": 82,
      "metadata": {
        "colab": {
          "base_uri": "https://localhost:8080/"
        },
        "id": "OAq4-rDi27iD",
        "outputId": "9076285b-f220-41bd-f44e-2819ec057110"
      },
      "outputs": [
        {
          "output_type": "stream",
          "name": "stdout",
          "text": [
            "max of 1 12 and  2  is:  12\n"
          ]
        }
      ],
      "source": [
        "\n",
        "def getMax(a, b, c):\n",
        "  #if a and b and c are same returning c value\n",
        "  # if a==b==c return a\n",
        "  if(a==b):\n",
        "    if(b==c):\n",
        "      return a\n",
        "\n",
        "  # if a>b>c then return a\n",
        "  if (a > b):\n",
        "    if (a > c):\n",
        "      return a\n",
        "    else:\n",
        "      return c\n",
        "  elif (b > c):\n",
        "    return b\n",
        "\n",
        "  # if a<b<c then return c\n",
        "  if (a < b):\n",
        "    if(b < c):\n",
        "      return c\n",
        "    else:\n",
        "      return b\n",
        "\n",
        "a=1\n",
        "b=12\n",
        "c=2\n",
        "x = getMax(a, b, c)\n",
        "print(\"max of\",a,b, \"and \",c,\" is: \", x)"
      ]
    },
    {
      "cell_type": "code",
      "source": [
        "#testing\n",
        "def isLeapYear(input_year):\n",
        "   pass"
      ],
      "metadata": {
        "id": "-QAIZyK_QRFC"
      },
      "execution_count": 18,
      "outputs": []
    }
  ]
}