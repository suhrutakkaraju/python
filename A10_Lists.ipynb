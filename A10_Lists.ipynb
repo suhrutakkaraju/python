{
  "nbformat": 4,
  "nbformat_minor": 0,
  "metadata": {
    "colab": {
      "provenance": [],
      "authorship_tag": "ABX9TyMGcGfUCJS0qShlckVQW4Lp",
      "include_colab_link": true
    },
    "kernelspec": {
      "name": "python3",
      "display_name": "Python 3"
    },
    "language_info": {
      "name": "python"
    }
  },
  "cells": [
    {
      "cell_type": "markdown",
      "metadata": {
        "id": "view-in-github",
        "colab_type": "text"
      },
      "source": [
        "<a href=\"https://colab.research.google.com/github/suhrutakkaraju/python/blob/main/A10_Lists.ipynb\" target=\"_parent\"><img src=\"https://colab.research.google.com/assets/colab-badge.svg\" alt=\"Open In Colab\"/></a>"
      ]
    },
    {
      "cell_type": "code",
      "execution_count": 14,
      "metadata": {
        "colab": {
          "base_uri": "https://localhost:8080/"
        },
        "id": "lK3Xm8geoApB",
        "outputId": "f422de61-0701-44b1-bf40-18071c9c3fbf"
      },
      "outputs": [
        {
          "output_type": "stream",
          "name": "stdout",
          "text": [
            "[]\n"
          ]
        }
      ],
      "source": [
        "thislist = []\n",
        "print(thislist)"
      ]
    },
    {
      "cell_type": "code",
      "source": [
        "thislist = ['wolf, tiger, shark']\n",
        "print(thislist)"
      ],
      "metadata": {
        "colab": {
          "base_uri": "https://localhost:8080/"
        },
        "id": "s3oq5LTRpcPL",
        "outputId": "f3a79c89-194e-4cf1-f3da-fc7e9ee099b4"
      },
      "execution_count": 40,
      "outputs": [
        {
          "output_type": "stream",
          "name": "stdout",
          "text": [
            "['wolf, tiger, shark']\n"
          ]
        }
      ]
    },
    {
      "cell_type": "code",
      "source": [
        "thislist = ['wolf, tiger, shark']\n",
        "thislist.append('animal pattern')\n",
        "print(thislist)"
      ],
      "metadata": {
        "colab": {
          "base_uri": "https://localhost:8080/"
        },
        "id": "YN65AaE9ppqR",
        "outputId": "077317d2-de0b-4d37-9d45-a01df4406b66"
      },
      "execution_count": 39,
      "outputs": [
        {
          "output_type": "stream",
          "name": "stdout",
          "text": [
            "['wolf, tiger, shark', 'animal pattern']\n"
          ]
        }
      ]
    },
    {
      "cell_type": "code",
      "source": [
        "# 1 = tiger\n",
        "# 0 = wolf\n",
        "# 2 = shark\n",
        "thislist = [\"wolf\", \"tiger\", \"shark\"]\n",
        "print(thislist[0])"
      ],
      "metadata": {
        "colab": {
          "base_uri": "https://localhost:8080/"
        },
        "id": "xiA_65eIqA_h",
        "outputId": "66a36981-cf5d-4376-c6f2-0b451d55269f"
      },
      "execution_count": 38,
      "outputs": [
        {
          "output_type": "stream",
          "name": "stdout",
          "text": [
            "wolf\n"
          ]
        }
      ]
    },
    {
      "cell_type": "code",
      "source": [
        "thislist = ['wolf, tiger, shark']\n",
        "thislist.reverse()\n",
        "print(thislist)"
      ],
      "metadata": {
        "colab": {
          "base_uri": "https://localhost:8080/"
        },
        "id": "zdE_jG5rr_C9",
        "outputId": "d535b3f2-5321-45d6-e7c0-618e348fa5a6"
      },
      "execution_count": 34,
      "outputs": [
        {
          "output_type": "stream",
          "name": "stdout",
          "text": [
            "['wolf, tiger, shark']\n"
          ]
        }
      ]
    },
    {
      "cell_type": "code",
      "source": [
        "thislist = ['wolf, tiger, shark']\n",
        "thislist.append('animal pattern')\n",
        "addlist = ['dog, cat, fish']\n",
        "resultlist = addlist + thislist \n",
        "print(resultlist)"
      ],
      "metadata": {
        "colab": {
          "base_uri": "https://localhost:8080/"
        },
        "id": "vkMSqQgiuSDH",
        "outputId": "ad0ba19e-a618-4ce2-8f00-908e8434b7e8"
      },
      "execution_count": 41,
      "outputs": [
        {
          "output_type": "stream",
          "name": "stdout",
          "text": [
            "['dog, cat, fish', 'wolf, tiger, shark', 'animal pattern']\n"
          ]
        }
      ]
    },
    {
      "cell_type": "code",
      "source": [
        "thislist = ['wolf, tiger, shark']\n",
        "thislist.insert(3, \"axolotl\")\n",
        "thislist.append('animal pattern')\n",
        "print(thislist)"
      ],
      "metadata": {
        "colab": {
          "base_uri": "https://localhost:8080/"
        },
        "id": "vk7-t9c6vtAT",
        "outputId": "5fad110b-1c21-4e80-a1bb-ed3927d204cd"
      },
      "execution_count": 46,
      "outputs": [
        {
          "output_type": "stream",
          "name": "stdout",
          "text": [
            "['wolf, tiger, shark', 'axolotl', 'animal pattern']\n"
          ]
        }
      ]
    },
    {
      "cell_type": "code",
      "source": [
        "# 1 = tiger\n",
        "# 0 = wolf\n",
        "# 2 = shark\n",
        "thislist = [\"wolf\", \"tiger\", \"shark\"]\n",
        "thislist.pop(2)\n",
        "thislist.append(\"great white shark\")\n",
        "print(thislist)"
      ],
      "metadata": {
        "colab": {
          "base_uri": "https://localhost:8080/"
        },
        "id": "YGtjWIn6xZO7",
        "outputId": "43e06a55-a2b5-486a-ee8a-484f4ccc04f6"
      },
      "execution_count": 54,
      "outputs": [
        {
          "output_type": "stream",
          "name": "stdout",
          "text": [
            "['wolf', 'tiger', 'great white shark']\n"
          ]
        }
      ]
    },
    {
      "cell_type": "code",
      "source": [
        "thislist = [\"wolf\", \"tiger\", \"shark\"]\n",
        "for x in thislist:\n",
        "  print(x)"
      ],
      "metadata": {
        "colab": {
          "base_uri": "https://localhost:8080/"
        },
        "id": "AdQmAxFP4xNB",
        "outputId": "286a2224-2bac-41b3-e473-2828141eb38e"
      },
      "execution_count": 55,
      "outputs": [
        {
          "output_type": "stream",
          "name": "stdout",
          "text": [
            "wolf\n",
            "tiger\n",
            "shark\n"
          ]
        }
      ]
    },
    {
      "cell_type": "code",
      "source": [
        "x = min(1,18, 100)\n",
        "print(x)"
      ],
      "metadata": {
        "colab": {
          "base_uri": "https://localhost:8080/"
        },
        "id": "ozKxZAdj5UF0",
        "outputId": "7b4976fd-a07a-44b2-ed98-b68e68e0ba6b"
      },
      "execution_count": 57,
      "outputs": [
        {
          "output_type": "stream",
          "name": "stdout",
          "text": [
            "1\n"
          ]
        }
      ]
    },
    {
      "cell_type": "code",
      "source": [
        "x = max(1, 18, 100)\n",
        "print(x)"
      ],
      "metadata": {
        "colab": {
          "base_uri": "https://localhost:8080/"
        },
        "id": "38jYNTQr6L_9",
        "outputId": "7caeac14-993f-4d06-d50f-22d9c2a9984c"
      },
      "execution_count": 58,
      "outputs": [
        {
          "output_type": "stream",
          "name": "stdout",
          "text": [
            "100\n"
          ]
        }
      ]
    }
  ]
}