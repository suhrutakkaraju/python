{
  "nbformat": 4,
  "nbformat_minor": 0,
  "metadata": {
    "colab": {
      "provenance": [],
      "authorship_tag": "ABX9TyMJsllREWt7foVd6EpX16w2",
      "include_colab_link": true
    },
    "kernelspec": {
      "name": "python3",
      "display_name": "Python 3"
    },
    "language_info": {
      "name": "python"
    }
  },
  "cells": [
    {
      "cell_type": "markdown",
      "metadata": {
        "id": "view-in-github",
        "colab_type": "text"
      },
      "source": [
        "<a href=\"https://colab.research.google.com/github/suhrutakkaraju/python/blob/main/mid_term_project.ipynb\" target=\"_parent\"><img src=\"https://colab.research.google.com/assets/colab-badge.svg\" alt=\"Open In Colab\"/></a>"
      ]
    },
    {
      "cell_type": "code",
      "execution_count": null,
      "metadata": {
        "id": "CZ5Z-x-rMuhR",
        "colab": {
          "base_uri": "https://localhost:8080/"
        },
        "outputId": "95b165df-bd11-463c-d4bd-8e538a90ec83"
      },
      "outputs": [
        {
          "output_type": "stream",
          "name": "stdout",
          "text": [
            "16\n",
            "['3', 8, '3', 8, '3', 8, '3', 8, '3', 8, '3', 8, '3', 8, '3', 8]\n",
            "88\n",
            "False\n"
          ]
        }
      ],
      "source": [
        "def validatecreditcard(creditcardnumber):\n",
        "  length = len(creditcardnumber)\n",
        "  if(length != 16):\n",
        "    return False\n",
        "  thislist = []\n",
        "  for num in creditcardnumber:\n",
        "    thislist.append(num)\n",
        "  \n",
        "  thislist.reverse()\n",
        "  #print(thislist)\n",
        "\n",
        "  i = length\n",
        "  print(i)\n",
        "  for j in range(0,i):\n",
        "    if(j%2>0):\n",
        "      #print(j)\n",
        "      #print(thislist[j])\n",
        "      #if (thislist[j]):\n",
        "      k = int(thislist[j])\n",
        "      k=k*2\n",
        "      if(k>9):\n",
        "        k=k%9\n",
        "      thislist[j]=k\n",
        "\n",
        "  print(thislist)\n",
        "\n",
        "  # loop through thislist and add each element and assign the total to a variable \n",
        "  sum =0\n",
        "  for t in range(0,i):\n",
        "    sum=sum+int(thislist[t])\n",
        "\n",
        "  print(sum)\n",
        "    \n",
        "  # check if sum is divisible by 10 then return true\n",
        "  if(sum%10==0):\n",
        "    return True\n",
        "  \n",
        "  return False\n",
        "    \n",
        "print(validatecreditcard(\"4343434343434343\"))"
      ]
    },
    {
      "cell_type": "code",
      "source": [
        "def validatecreditcard(creditcardnumber):\n",
        "  length = len(creditcardnumber)\n",
        "  if(length != 16):\n",
        "    return False\n",
        "  thislist = []\n",
        "  for num in creditcardnumber:\n",
        "    thislist.append(num)\n",
        "  \n",
        "  thislist.reverse()\n",
        "  #print(thislist)\n",
        "\n",
        "  i = length\n",
        "  print(i)\n",
        "  for j in range(0,i):\n",
        "    if(j%2>0):\n",
        "      #print(j)\n",
        "      #print(thislist[j])\n",
        "      #if (thislist[j]):\n",
        "      k = int(thislist[j])\n",
        "      k=k*2\n",
        "      if(k>9):\n",
        "        k=k%9\n",
        "      thislist[j]=k\n",
        "\n",
        "  print(thislist)\n",
        "\n",
        "  # loop through thislist and add each element and assign the total to a variable \n",
        "  sum =0\n",
        "  for t in range(0,i):\n",
        "    sum=sum+int(thislist[t])\n",
        "\n",
        "  print(sum)\n",
        "    \n",
        "  # check if sum is divisible by 10 then return true\n",
        "  if(sum%10==0):\n",
        "    return True\n",
        "  \n",
        "  return False\n",
        "    \n",
        "print(validatecreditcard(\"4242424242424242\"))"
      ],
      "metadata": {
        "colab": {
          "base_uri": "https://localhost:8080/"
        },
        "id": "HydLXZJXwke3",
        "outputId": "f89ffc4e-180c-4e4c-b6c1-882b71b9a6d3"
      },
      "execution_count": null,
      "outputs": [
        {
          "output_type": "stream",
          "name": "stdout",
          "text": [
            "16\n",
            "['2', 8, '2', 8, '2', 8, '2', 8, '2', 8, '2', 8, '2', 8, '2', 8]\n",
            "80\n",
            "True\n"
          ]
        }
      ]
    }
  ]
}