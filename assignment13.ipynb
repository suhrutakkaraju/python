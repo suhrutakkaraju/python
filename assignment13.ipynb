{
  "nbformat": 4,
  "nbformat_minor": 0,
  "metadata": {
    "colab": {
      "provenance": [],
      "authorship_tag": "ABX9TyOy1+KMcMSuesNdj+7NXJP7",
      "include_colab_link": true
    },
    "kernelspec": {
      "name": "python3",
      "display_name": "Python 3"
    },
    "language_info": {
      "name": "python"
    }
  },
  "cells": [
    {
      "cell_type": "markdown",
      "metadata": {
        "id": "view-in-github",
        "colab_type": "text"
      },
      "source": [
        "<a href=\"https://colab.research.google.com/github/suhrutakkaraju/python/blob/main/assignment13.ipynb\" target=\"_parent\"><img src=\"https://colab.research.google.com/assets/colab-badge.svg\" alt=\"Open In Colab\"/></a>"
      ]
    },
    {
      "cell_type": "code",
      "execution_count": null,
      "metadata": {
        "id": "UlD6HpS6Zlo0",
        "colab": {
          "base_uri": "https://localhost:8080/"
        },
        "outputId": "014d23e4-e517-4407-da8f-f6a987e2de83"
      },
      "outputs": [
        {
          "output_type": "stream",
          "name": "stdout",
          "text": [
            "Number of time Mama is in file 3\n",
            "Number of time Papa is in file 3\n",
            "Length of longest line in the file 115\n",
            "Length of shortest line in the file 7\n"
          ]
        }
      ],
      "source": [
        "mama_str_cnt=0\n",
        "papa_str_cnt=0\n",
        "longest_line=0\n",
        "shortest_line=10000\n",
        "#shortest_line needs a random big number to get the amount of characters in the shortest line of the text\n",
        "with open('goldilocks.txt') as my_file_obj:\n",
        "  for each_line in my_file_obj:\n",
        "    #print(each_line)\n",
        "    if(len(each_line)>longest_line):\n",
        "      longest_line=len(each_line)\n",
        "    if(len(each_line)<shortest_line):\n",
        "      shortest_line=len(each_line)\n",
        "    if each_line.find(\"Mama\")>0:\n",
        "        mama_str_cnt+=1\n",
        "    if each_line.find(\"Papa\")>0:\n",
        "        papa_str_cnt+=1\n",
        "  \n",
        "  print(\"Number of time Mama is in file\", mama_str_cnt)\n",
        "  print(\"Number of time Papa is in file\", papa_str_cnt)\n",
        "  print(\"Length of longest line in the file\",longest_line)\n",
        "  print(\"Length of shortest line in the file\",shortest_line)\n",
        "  my_file_obj.close()"
      ]
    }
  ]
}