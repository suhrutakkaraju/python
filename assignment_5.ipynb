{
  "nbformat": 4,
  "nbformat_minor": 0,
  "metadata": {
    "colab": {
      "provenance": [],
      "authorship_tag": "ABX9TyPD+sQtYpRmaiYy+mapE7kD",
      "include_colab_link": true
    },
    "kernelspec": {
      "name": "python3",
      "display_name": "Python 3"
    },
    "language_info": {
      "name": "python"
    }
  },
  "cells": [
    {
      "cell_type": "markdown",
      "metadata": {
        "id": "view-in-github",
        "colab_type": "text"
      },
      "source": [
        "<a href=\"https://colab.research.google.com/github/suhrutakkaraju/python/blob/main/assignment_5.ipynb\" target=\"_parent\"><img src=\"https://colab.research.google.com/assets/colab-badge.svg\" alt=\"Open In Colab\"/></a>"
      ]
    },
    {
      "cell_type": "code",
      "execution_count": null,
      "metadata": {
        "colab": {
          "base_uri": "https://localhost:8080/"
        },
        "id": "jcY8tVsumcAf",
        "outputId": "6daf707e-38b4-4ff0-ac9c-ca7250a72a1c"
      },
      "outputs": [
        {
          "name": "stdout",
          "output_type": "stream",
          "text": [
            "Celsius_Temprature,Farenheit_Temprature\n",
            "0 32.0\n",
            "do you wish to continue? 1-yes or 0-no1\n",
            "1 33.8\n",
            "do you wish to continue? 1-yes or 0-no1\n",
            "2 35.6\n",
            "do you wish to continue? 1-yes or 0-no0\n"
          ]
        }
      ],
      "source": [
        "#E9- Sentinel\n",
        "#Program to display Celsius to Farenheit table\n",
        "run = 1\n",
        "Celsius_Temprature = 0;\n",
        "Farenheit_Temprature = (9/5)*Celsius_Temprature + 32\n",
        "print(\"Celsius_Temprature,Farenheit_Temprature\")\n",
        "#Run loop until run > 0\n",
        "while(run > 0):\n",
        "  print(Celsius_Temprature, Farenheit_Temprature)\n",
        "  Celsius_Temprature = Celsius_Temprature + 1\n",
        "  Farenheit_Temprature = (9/5)*Celsius_Temprature + 32\n",
        "  run= int(input(\"do you wish to continue? 1-yes or 0-no\"))\n",
        "\n"
      ]
    },
    {
      "cell_type": "code",
      "source": [
        "# E10\n",
        "# Program to calculate budget \n",
        "budget = float(input(\"Enter your monthly budget: $\"))\n",
        "\n",
        "amount = 1;\n",
        "\n",
        "while(amount !=0):\n",
        "  total_amount = 0;\n",
        "  amount = float(input(\"Amount (enter zero to finish): $\"))\n",
        "  total_amount += amount\n",
        "  if(budget > total_amount):\n",
        "    print(\"Under budget\")\n",
        "  else:\n",
        "    print(\"Over budget\")\n",
        "\n",
        "  print(\"total_amount2\",total_amount)\n"
      ],
      "metadata": {
        "id": "0ypGCAOImdsq",
        "colab": {
          "base_uri": "https://localhost:8080/"
        },
        "outputId": "4fb75017-9893-4c58-a7bd-902dea054fa4"
      },
      "execution_count": null,
      "outputs": [
        {
          "output_type": "stream",
          "name": "stdout",
          "text": [
            "Enter your monthly budget: $90\n",
            "Amount (enter zero to finish): $70\n",
            "Under budget\n",
            "total_amount2 70.0\n",
            "Amount (enter zero to finish): $60\n",
            "Under budget\n",
            "total_amount2 60.0\n",
            "Amount (enter zero to finish): $95\n",
            "Over budget\n",
            "total_amount2 95.0\n",
            "Amount (enter zero to finish): $0\n",
            "Under budget\n",
            "total_amount2 0.0\n"
          ]
        }
      ]
    },
    {
      "cell_type": "code",
      "source": [
        "#E11\n",
        "#Program to calculate distance\n",
        "#Take input from user Miles_Per_Hour*Hours_Traveled\n",
        "travel_time = 1\n",
        "speed_mph = int(input(\"Enter the speed in miles per hour: \"))\n",
        "while(travel_time > 0):\n",
        "  speed_mph = int(input(\"Enter the speed in miles per hour: \"))\n",
        "  travel_time = int(input(\"Enter the travel time: \"))\n",
        "  distance = speed_mph / travel_time\n",
        "  print(\"Distance travelled in \" ,travel_time,\"hours is \", distance)\n",
        "  travel_time = int(input(\"Enter the Time in hours, Enter 1 to continue or Enter 0 to end\"))\n",
        "  \n"
      ],
      "metadata": {
        "colab": {
          "base_uri": "https://localhost:8080/"
        },
        "id": "-VOCsUYGmhHU",
        "outputId": "d6add4f7-e4f4-4689-a835-df6992ac6a06"
      },
      "execution_count": null,
      "outputs": [
        {
          "name": "stdout",
          "output_type": "stream",
          "text": [
            "Enter the speed in miles per hour: 90\n",
            "Enter the speed in miles per hour: 90\n",
            "Enter the travel time: 2\n",
            "Distance travelled in  2 hours is  45.0\n",
            "Enter the Time in hours, Enter 1 to continue or Enter 0 to end1\n",
            "Enter the speed in miles per hour: 90\n",
            "Enter the travel time: 90\n",
            "Distance travelled in  90 hours is  1.0\n",
            "Enter the Time in hours, Enter 1 to continue or Enter 0 to end0\n"
          ]
        }
      ]
    }
  ]
}