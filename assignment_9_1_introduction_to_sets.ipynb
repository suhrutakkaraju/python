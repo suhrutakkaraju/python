{
  "nbformat": 4,
  "nbformat_minor": 0,
  "metadata": {
    "colab": {
      "provenance": [],
      "authorship_tag": "ABX9TyOc78npIgO1i2aCbS+a4Uiu",
      "include_colab_link": true
    },
    "kernelspec": {
      "name": "python3",
      "display_name": "Python 3"
    },
    "language_info": {
      "name": "python"
    }
  },
  "cells": [
    {
      "cell_type": "markdown",
      "metadata": {
        "id": "view-in-github",
        "colab_type": "text"
      },
      "source": [
        "<a href=\"https://colab.research.google.com/github/suhrutakkaraju/python/blob/main/assignment_9_1_introduction_to_sets.ipynb\" target=\"_parent\"><img src=\"https://colab.research.google.com/assets/colab-badge.svg\" alt=\"Open In Colab\"/></a>"
      ]
    },
    {
      "cell_type": "code",
      "execution_count": null,
      "metadata": {
        "colab": {
          "base_uri": "https://localhost:8080/"
        },
        "id": "OExE8q9QKlEJ",
        "outputId": "82895342-3420-421b-f6f5-22c485329d37"
      },
      "outputs": [
        {
          "output_type": "stream",
          "name": "stdout",
          "text": [
            "['cat']\n",
            "['dog', 'tiger', 'wolf']\n",
            "['mouse', 'rat', 'rabbit', 'lion']\n"
          ]
        }
      ],
      "source": [
        "list1 = [\"cat\", \"dog\", \"tiger\", \"wolf\"]\n",
        "list2 = [\"mouse\", \"cat\", \"rat\", \"rabbit\", \"lion\"]\n",
        "listcommon = []\n",
        "for x in list1:\n",
        "#  print(x)\n",
        "  for y in list2:\n",
        "#    print(y)\n",
        "    if x == y:\n",
        "      listcommon.append(x) \n",
        "print(listcommon)\n",
        "\n",
        "temp3 = []\n",
        "for element in list1:\n",
        "    if element not in list2:\n",
        "        temp3.append(element)\n",
        " \n",
        "print(temp3)\n",
        "\n",
        "temp3 = []\n",
        "for element in list2:\n",
        "    if element not in list1:\n",
        "        temp3.append(element)\n",
        " \n",
        "print(temp3)\n"
      ]
    }
  ]
}