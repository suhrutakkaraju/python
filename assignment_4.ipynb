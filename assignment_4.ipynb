{
  "nbformat": 4,
  "nbformat_minor": 0,
  "metadata": {
    "colab": {
      "provenance": [],
      "authorship_tag": "ABX9TyOdJXOgJzcUKwz7Mm/AdTeQ",
      "include_colab_link": true
    },
    "kernelspec": {
      "name": "python3",
      "display_name": "Python 3"
    },
    "language_info": {
      "name": "python"
    }
  },
  "cells": [
    {
      "cell_type": "markdown",
      "metadata": {
        "id": "view-in-github",
        "colab_type": "text"
      },
      "source": [
        "<a href=\"https://colab.research.google.com/github/suhrutakkaraju/python/blob/main/assignment_4.ipynb\" target=\"_parent\"><img src=\"https://colab.research.google.com/assets/colab-badge.svg\" alt=\"Open In Colab\"/></a>"
      ]
    },
    {
      "cell_type": "code",
      "execution_count": null,
      "metadata": {
        "id": "32tYDl5ylQah",
        "colab": {
          "base_uri": "https://localhost:8080/"
        },
        "outputId": "b42ff3d2-c697-43c9-a97d-ef1515aed504"
      },
      "outputs": [
        {
          "output_type": "stream",
          "name": "stdout",
          "text": [
            "Celsius_Temprature,Farenheit_Temprature\n",
            "0 32.0\n",
            "1 33.8\n",
            "2 35.6\n",
            "3 37.4\n",
            "4 39.2\n",
            "5 41.0\n",
            "6 42.8\n",
            "7 44.6\n",
            "8 46.4\n",
            "9 48.2\n",
            "10 50.0\n",
            "11 51.8\n",
            "12 53.6\n",
            "13 55.400000000000006\n",
            "14 57.2\n",
            "15 59.0\n",
            "16 60.8\n",
            "17 62.6\n",
            "18 64.4\n",
            "19 66.2\n",
            "20 68.0\n"
          ]
        }
      ],
      "source": [
        "#E9\n",
        "#Program to display Celsius to Farenheit table\n",
        "\n",
        "Celsius_Temprature = 0;\n",
        "Farenheit_Temprature = (9/5)*Celsius_Temprature + 32\n",
        "print(\"Celsius_Temprature,Farenheit_Temprature\")\n",
        "while(Celsius_Temprature <= 20):\n",
        "  print(Celsius_Temprature, Farenheit_Temprature)\n",
        "  Celsius_Temprature = Celsius_Temprature + 1\n",
        "  Farenheit_Temprature = (9/5)*Celsius_Temprature + 32"
      ]
    },
    {
      "cell_type": "code",
      "source": [
        "# E10\n",
        "# Program to calculate budget \n",
        "\n",
        "budget = float(input(\"Enter your monthly budget: $\"))\n",
        "total_amount = 0;\n",
        "amount = float(input(\"Amount (enter zero to finish): $\"));\n",
        "while(amount !=0):\n",
        "  amount = float(input(\"Amount (enter zero to finish): $\"))\n",
        "  total_amount += amount\n",
        "if(budget > total_amount):\n",
        "   print(\"Under budget\")\n",
        "else:\n",
        "   print(\"Over budget\")"
      ],
      "metadata": {
        "id": "EJizwjCABi1a"
      },
      "execution_count": null,
      "outputs": []
    },
    {
      "cell_type": "code",
      "source": [
        "#E11\n",
        "#Program to calculate distance\n",
        "#Take input from user Miles_Per_Hour*Hours_Traveled\n",
        "\n",
        "speed_mph = int(input(\"Enter the speed in miles per hour: \"))\n",
        "travel_time = int(input(\"Enter the Time in hours\"))\n",
        "i=1\n",
        "while(i <= travel_time):\n",
        "  distance = speed_mph * i\n",
        "  print(\"Distance travelled in \" ,i,\"hours is \", distance)\n",
        "  i = i+1\n"
      ],
      "metadata": {
        "id": "MkII5j16BpmK",
        "colab": {
          "base_uri": "https://localhost:8080/"
        },
        "outputId": "829b1db8-519c-4fe6-d8a9-3681d15e327c"
      },
      "execution_count": null,
      "outputs": [
        {
          "output_type": "stream",
          "name": "stdout",
          "text": [
            "Enter the speed in miles per hour: 40\n",
            "Enter the Time in hours3\n",
            "Distance travelled in  1 hours is  40\n",
            "Distance travelled in  2 hours is  80\n",
            "Distance travelled in  3 hours is  120\n"
          ]
        }
      ]
    }
  ]
}