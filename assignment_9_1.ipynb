{
  "nbformat": 4,
  "nbformat_minor": 0,
  "metadata": {
    "colab": {
      "provenance": [],
      "authorship_tag": "ABX9TyMzJ18wsSGgS4waPcL+HXZ8",
      "include_colab_link": true
    },
    "kernelspec": {
      "name": "python3",
      "display_name": "Python 3"
    },
    "language_info": {
      "name": "python"
    }
  },
  "cells": [
    {
      "cell_type": "markdown",
      "metadata": {
        "id": "view-in-github",
        "colab_type": "text"
      },
      "source": [
        "<a href=\"https://colab.research.google.com/github/suhrutakkaraju/python/blob/main/assignment_9_1.ipynb\" target=\"_parent\"><img src=\"https://colab.research.google.com/assets/colab-badge.svg\" alt=\"Open In Colab\"/></a>"
      ]
    },
    {
      "cell_type": "code",
      "execution_count": null,
      "metadata": {
        "colab": {
          "base_uri": "https://localhost:8080/"
        },
        "id": "H6lBfGXlsFPx",
        "outputId": "bccb5493-1d0b-42d1-b4f5-3ae964ca1dc5"
      },
      "outputs": [
        {
          "output_type": "stream",
          "name": "stdout",
          "text": [
            "{'cat'}\n",
            "{'wolf', 'cat', 'dog', 'lion', 'coyote', 'tiger', 'lynx'}\n"
          ]
        }
      ],
      "source": [
        "set1={\"dog\", \"cat\", \"tiger\", \"wolf\"}\n",
        "set2={\"cat\", \"lion\", \"lynx\", \"coyote\"}\n",
        "setcommon=(set1.intersection(set2))\n",
        "print(setcommon)\n",
        "\n",
        "setall = set1.union(set2)\n",
        "print(setall)\n"
      ]
    }
  ]
}